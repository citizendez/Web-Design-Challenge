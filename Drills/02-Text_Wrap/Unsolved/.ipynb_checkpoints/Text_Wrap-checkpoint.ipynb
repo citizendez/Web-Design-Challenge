{
 "cells": [
  {
   "cell_type": "markdown",
   "metadata": {},
   "source": [
    "# Text Wrap\n",
    "\n",
    "Write a function that will accept a string and a length N and print every N characters for the string on a separate line.\n",
    "\n",
    "Input:\n",
    "```\n",
    "N = 4\n",
    "test_string = \"abcdefghijklmn\"\n",
    "```\n",
    "\n",
    "Output:\n",
    "```\n",
    "abcd\n",
    "efgh\n",
    "ijkl\n",
    "mn\n",
    "```"
   ]
  },
  {
   "cell_type": "code",
   "execution_count": 1,
   "metadata": {},
   "outputs": [],
   "source": [
    "test_string = \"abcdefghijklmn\""
   ]
  },
  {
   "cell_type": "markdown",
   "metadata": {},
   "source": [
    "### YOUR CODE HERE"
   ]
  },
  {
   "cell_type": "code",
   "execution_count": 9,
   "metadata": {},
   "outputs": [
    {
     "name": "stdout",
     "output_type": "stream",
     "text": [
      "abcd\n",
      "efgh\n",
      "ijkl\n",
      "mn\n"
     ]
    }
   ],
   "source": [
    "def spars(string, n):\n",
    "    i = 0\n",
    "    newstr = ''\n",
    "    for c in string:\n",
    "        newstr = newstr + string[i]\n",
    "        i = i + 1\n",
    "        if i % n == 0:\n",
    "            print(newstr)\n",
    "            newstr = ''\n",
    "    print(newstr)\n",
    "spars(test_string, 4)"
   ]
  },
  {
   "cell_type": "code",
   "execution_count": 15,
   "metadata": {},
   "outputs": [
    {
     "name": "stdout",
     "output_type": "stream",
     "text": [
      "abcd\n",
      "efgh\n",
      "ijkl\n",
      "mn\n"
     ]
    }
   ],
   "source": [
    "def range_prs(string, n):\n",
    "    for i in range(0,len(string), n):\n",
    "        print(string[i:i+n])\n",
    "range_prs(test_string, 4)       "
   ]
  }
 ],
 "metadata": {
  "kernelspec": {
   "display_name": "Python 3",
   "language": "python",
   "name": "python3"
  },
  "language_info": {
   "codemirror_mode": {
    "name": "ipython",
    "version": 3
   },
   "file_extension": ".py",
   "mimetype": "text/x-python",
   "name": "python",
   "nbconvert_exporter": "python",
   "pygments_lexer": "ipython3",
   "version": "3.8.3"
  },
  "varInspector": {
   "cols": {
    "lenName": 16,
    "lenType": 16,
    "lenVar": 40
   },
   "kernels_config": {
    "python": {
     "delete_cmd_postfix": "",
     "delete_cmd_prefix": "del ",
     "library": "var_list.py",
     "varRefreshCmd": "print(var_dic_list())"
    },
    "r": {
     "delete_cmd_postfix": ") ",
     "delete_cmd_prefix": "rm(",
     "library": "var_list.r",
     "varRefreshCmd": "cat(var_dic_list()) "
    }
   },
   "types_to_exclude": [
    "module",
    "function",
    "builtin_function_or_method",
    "instance",
    "_Feature"
   ],
   "window_display": false
  }
 },
 "nbformat": 4,
 "nbformat_minor": 2
}
